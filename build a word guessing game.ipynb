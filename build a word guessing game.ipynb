{
 "cells": [
  {
   "cell_type": "code",
   "execution_count": 1,
   "id": "d275e1be",
   "metadata": {},
   "outputs": [],
   "source": [
    "import random"
   ]
  },
  {
   "cell_type": "code",
   "execution_count": 2,
   "id": "7dc22580",
   "metadata": {},
   "outputs": [],
   "source": [
    "word_bank = ['rizz', 'ohio', 'sigma', 'tiktok', 'skibidi']"
   ]
  },
  {
   "cell_type": "code",
   "execution_count": 3,
   "id": "b14099e0",
   "metadata": {},
   "outputs": [],
   "source": [
    "word = random.choice(word_bank)"
   ]
  },
  {
   "cell_type": "code",
   "execution_count": 4,
   "id": "5af00618",
   "metadata": {},
   "outputs": [],
   "source": [
    "guessedWord = ['_'] * len(word)"
   ]
  },
  {
   "cell_type": "code",
   "execution_count": 5,
   "id": "827f8000",
   "metadata": {},
   "outputs": [],
   "source": [
    "attempts =10"
   ]
  },
  {
   "cell_type": "code",
   "execution_count": 6,
   "id": "ef67e0f7",
   "metadata": {},
   "outputs": [
    {
     "name": "stdout",
     "output_type": "stream",
     "text": [
      "\n",
      "Current word: _ _ _ _\n",
      "Guess a letter: a\n",
      "Wrong guess! Attempts left: 9\n",
      "\n",
      "You've run out of attempts! The word was: rizz\n",
      "\n",
      "Current word: _ _ _ _\n",
      "Guess a letter: o\n",
      "Wrong guess! Attempts left: 8\n",
      "\n",
      "You've run out of attempts! The word was: rizz\n",
      "\n",
      "Current word: _ _ _ _\n",
      "Guess a letter: r\n",
      "Great guess!\n",
      "\n",
      "You've run out of attempts! The word was: rizz\n",
      "\n",
      "Current word: r _ _ _\n",
      "Guess a letter: z\n",
      "Great guess!\n",
      "\n",
      "You've run out of attempts! The word was: rizz\n",
      "\n",
      "Current word: r _ z z\n",
      "Guess a letter: a\n",
      "Wrong guess! Attempts left: 7\n",
      "\n",
      "You've run out of attempts! The word was: rizz\n",
      "\n",
      "Current word: r _ z z\n",
      "Guess a letter: i\n",
      "Great guess!\n",
      "\n",
      "Congratulations!! You guessed the word: rizz\n"
     ]
    }
   ],
   "source": [
    "while attempts > 0:\n",
    "   \n",
    "    print('\\nCurrent word: ' + ' '.join(guessedWord))\n",
    "\n",
    "    guess = input('Guess a letter: ').lower()\n",
    "   \n",
    "    if guess in word:\n",
    "        for i in range(len(word)):\n",
    "            if word[i] == guess:\n",
    "                guessedWord[i] = guess\n",
    "        print('Great guess!')\n",
    "    else:\n",
    "        attempts -= 1\n",
    "        print('Wrong guess! Attempts left: ' + str(attempts))\n",
    "    if '_' not in guessedWord:\n",
    "        print('\\nCongratulations!! You guessed the word: ' + word)\n",
    "        break\n",
    "    else:\n",
    "      print('\\nYou\\'ve run out of attempts! The word was: ' + word)"
   ]
  },
  {
   "cell_type": "code",
   "execution_count": null,
   "id": "ea384a70",
   "metadata": {},
   "outputs": [],
   "source": []
  }
 ],
 "metadata": {
  "kernelspec": {
   "display_name": "Python 3 (ipykernel)",
   "language": "python",
   "name": "python3"
  },
  "language_info": {
   "codemirror_mode": {
    "name": "ipython",
    "version": 3
   },
   "file_extension": ".py",
   "mimetype": "text/x-python",
   "name": "python",
   "nbconvert_exporter": "python",
   "pygments_lexer": "ipython3",
   "version": "3.11.5"
  }
 },
 "nbformat": 4,
 "nbformat_minor": 5
}
